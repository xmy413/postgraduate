{
 "cells": [
  {
   "cell_type": "markdown",
   "id": "2e646ea7-14ce-4598-ba63-e49b0b00d01e",
   "metadata": {},
   "source": [
    "## 下载数据集"
   ]
  },
  {
   "cell_type": "code",
   "execution_count": 5,
   "id": "6806b278-a95c-4721-98b6-7891dccd4fda",
   "metadata": {},
   "outputs": [],
   "source": [
    "import torch\n",
    "import torchvision\n",
    "import torchvision.transforms as transforms"
   ]
  },
  {
   "cell_type": "markdown",
   "id": "ce1e9712-478a-4fd1-8158-2993106a5d50",
   "metadata": {},
   "source": [
    "#### 下文代码中地址需要更新为自己的内部存储路径"
   ]
  },
  {
   "cell_type": "code",
   "execution_count": 7,
   "id": "e15751e8-5ea3-43b6-8d26-f944f66635e7",
   "metadata": {},
   "outputs": [
    {
     "name": "stdout",
     "output_type": "stream",
     "text": [
      "Files already downloaded and verified\n",
      "Files already downloaded and verified\n"
     ]
    }
   ],
   "source": [
    "transform = transforms.Compose([transforms.ToTensor(),transforms.Normalize((0.5, 0.5, 0.5), (0.5, 0.5, 0.5))])\n",
    "\n",
    "trainset = torchvision.datasets.CIFAR10(root='D:/xmy/6.5数据集（CIFAR10数据集）',train=True, download=True, transform=transform)\n",
    "trainloader = torch.utils.data.DataLoader(trainset, batch_size=4, shuffle=True, num_workers=2)\n",
    "\n",
    "testset = torchvision.datasets.CIFAR10(root='D:/xmy/6.5数据集（CIFAR10数据集）',train=True, download=True, transform=transform)\n",
    "testloader = torch.utils.data.DataLoader(testset, batch_size=4, shuffle=False, num_workers=2)\n",
    "\n",
    "classes = ('plane', 'car', 'bird', 'cat', 'deer', 'dog', 'frog', 'horse', 'ship', 'truck')"
   ]
  },
  {
   "cell_type": "markdown",
   "id": "31ba9946-9b79-4a96-8902-647b580d917e",
   "metadata": {},
   "source": [
    "## 随机查看部分数据图像"
   ]
  },
  {
   "cell_type": "code",
   "execution_count": 9,
   "id": "e1ebb981-62ba-4f3b-874b-1d92589fe9ce",
   "metadata": {},
   "outputs": [],
   "source": [
    "import matplotlib.pyplot as plt\n",
    "import numpy as np"
   ]
  },
  {
   "cell_type": "code",
   "execution_count": 10,
   "id": "452e61f5-b94c-4cea-aa47-e4f82f69c374",
   "metadata": {},
   "outputs": [
    {
     "data": {
      "image/png": "[encoded data removed]",
      "text/plain": [
       "<Figure size 640x480 with 1 Axes>"
      ]
     },
     "metadata": {},
     "output_type": "display_data"
    },
    {
     "name": "stdout",
     "output_type": "stream",
     "text": [
      " bird   cat  bird  bird\n"
     ]
    }
   ],
   "source": [
    "def imshow(img):\n",
    "    img = img / 2 + 0.5\n",
    "    npimg = img.numpy()\n",
    "    plt.imshow(np.transpose(npimg,(1,2,0)))\n",
    "    plt.show()\n",
    "\n",
    "# 随机获取部分训练集    \n",
    "dataiter = iter(trainloader)\n",
    "images, labels = next(dataiter)\n",
    "\n",
    "# 显示4张图像\n",
    "imshow(torchvision.utils.make_grid(images))\n",
    "# 打印标签\n",
    "print(' '.join('%5s' % classes[labels[j]] for j in range(4)))"
   ]
  },
  {
   "cell_type": "markdown",
   "id": "c74230fa-8fe7-4bdb-bdba-8518f403ea32",
   "metadata": {},
   "source": [
    "## 构建网络框架"
   ]
  },
  {
   "cell_type": "code",
   "execution_count": 13,
   "id": "e6f70366-5e4c-4910-a948-f0fe4dc33859",
   "metadata": {},
   "outputs": [],
   "source": [
    "import torch.nn as nn\n",
    "import torch.nn.functional as F\n",
    "device = torch.device(\"cuda:0\" if torch.cuda.is_available() else \"cpu\")"
   ]
  },
  {
   "cell_type": "code",
   "execution_count": 49,
   "id": "b6f78f22-04e9-4dbe-9739-de7d841fce88",
   "metadata": {},
   "outputs": [],
   "source": [
    "class Net(nn.Module):\n",
    "    def __init__(self):\n",
    "        super(Net, self).__init__()\n",
    "        self.conv1 = nn.Conv2d(3, 16, 5, 1)\n",
    "        self.pool1 = nn.MaxPool2d(2,2)\n",
    "        self.conv2 = nn.Conv2d(16, 36, 5, 1)\n",
    "        self.pool2 = nn.MaxPool2d(2,2)\n",
    "        # 使用全局平均池化层\n",
    "        self.app = nn.AdaptiveAvgPool2d(1)\n",
    "        self.fc3 = nn.Linear(36, 10)\n",
    "        \n",
    "    def forward(self, x):\n",
    "        x = self.pool1(F.relu(self.conv1(x)))\n",
    "        x = self.pool2(F.relu(self.conv2(x)))\n",
    "        x = self.app(x)\n",
    "        x = x.view(x.shape[0], -1)\n",
    "        x = self.fc3(x)\n",
    "        return x"
   ]
  },
  {
   "cell_type": "code",
   "execution_count": 51,
   "id": "50b702f6-4458-4457-bdfb-b74d31b52f3a",
   "metadata": {},
   "outputs": [],
   "source": [
    "net = Net()\n",
    "net = net.to(device)"
   ]
  },
  {
   "cell_type": "code",
   "execution_count": 53,
   "id": "053c0276-ed40-4332-aa80-22fa4c024c46",
   "metadata": {},
   "outputs": [
    {
     "name": "stdout",
     "output_type": "stream",
     "text": [
      "Net(\n",
      "  (conv1): Conv2d(3, 16, kernel_size=(5, 5), stride=(1, 1))\n",
      "  (pool1): MaxPool2d(kernel_size=2, stride=2, padding=0, dilation=1, ceil_mode=False)\n",
      "  (conv2): Conv2d(16, 36, kernel_size=(5, 5), stride=(1, 1))\n",
      "  (pool2): MaxPool2d(kernel_size=2, stride=2, padding=0, dilation=1, ceil_mode=False)\n",
      "  (app): AdaptiveAvgPool2d(output_size=1)\n",
      "  (fc3): Linear(in_features=36, out_features=10, bias=True)\n",
      ")\n"
     ]
    },
    {
     "data": {
      "text/plain": [
       "Sequential(\n",
       "  (0): Conv2d(3, 16, kernel_size=(5, 5), stride=(1, 1))\n",
       "  (1): MaxPool2d(kernel_size=2, stride=2, padding=0, dilation=1, ceil_mode=False)\n",
       "  (2): Conv2d(16, 36, kernel_size=(5, 5), stride=(1, 1))\n",
       "  (3): MaxPool2d(kernel_size=2, stride=2, padding=0, dilation=1, ceil_mode=False)\n",
       ")"
      ]
     },
     "execution_count": 53,
     "metadata": {},
     "output_type": "execute_result"
    }
   ],
   "source": [
    "# 查看网络结构\n",
    "print(net)\n",
    "\n",
    "# 查看网络中的前四层\n",
    "nn.Sequential(*list(net.children())[:4])"
   ]
  },
  {
   "cell_type": "markdown",
   "id": "5232df70-0355-470e-86ac-c6fe27db6d70",
   "metadata": {},
   "source": [
    "## 训练模型"
   ]
  },
  {
   "cell_type": "markdown",
   "id": "2df97901-cd76-40c1-b816-bf2084cd98a9",
   "metadata": {},
   "source": [
    "### 定义损失函数和优化器"
   ]
  },
  {
   "cell_type": "code",
   "execution_count": 26,
   "id": "fd005411-b80b-45c6-a0ee-8de14b0b6bb9",
   "metadata": {},
   "outputs": [],
   "source": [
    "import torch.optim as optim\n",
    "criterion = nn.CrossEntropyLoss()\n",
    "optimizer = optim.SGD(net.parameters(), lr=0.001, momentum=0.9)"
   ]
  },
  {
   "cell_type": "code",
   "execution_count": 28,
   "id": "e8da039d-4d2c-4168-a388-d1b241a2076a",
   "metadata": {
    "scrolled": true
   },
   "outputs": [
    {
     "name": "stdout",
     "output_type": "stream",
     "text": [
      "[1,  2000] loss: 2.091\n",
      "[1,  4000] loss: 1.857\n",
      "[1,  6000] loss: 1.743\n",
      "[1,  8000] loss: 1.666\n",
      "[1, 10000] loss: 1.616\n",
      "[1, 12000] loss: 1.538\n",
      "[2,  2000] loss: 1.503\n",
      "[2,  4000] loss: 1.448\n",
      "[2,  6000] loss: 1.428\n",
      "[2,  8000] loss: 1.409\n",
      "[2, 10000] loss: 1.387\n",
      "[2, 12000] loss: 1.371\n",
      "[3,  2000] loss: 1.340\n",
      "[3,  4000] loss: 1.318\n",
      "[3,  6000] loss: 1.321\n",
      "[3,  8000] loss: 1.273\n",
      "[3, 10000] loss: 1.264\n",
      "[3, 12000] loss: 1.247\n",
      "[4,  2000] loss: 1.244\n",
      "[4,  4000] loss: 1.236\n",
      "[4,  6000] loss: 1.225\n",
      "[4,  8000] loss: 1.194\n",
      "[4, 10000] loss: 1.202\n",
      "[4, 12000] loss: 1.212\n",
      "[5,  2000] loss: 1.162\n",
      "[5,  4000] loss: 1.186\n",
      "[5,  6000] loss: 1.154\n",
      "[5,  8000] loss: 1.167\n",
      "[5, 10000] loss: 1.174\n",
      "[5, 12000] loss: 1.150\n",
      "[6,  2000] loss: 1.119\n",
      "[6,  4000] loss: 1.130\n",
      "[6,  6000] loss: 1.118\n",
      "[6,  8000] loss: 1.131\n",
      "[6, 10000] loss: 1.124\n",
      "[6, 12000] loss: 1.116\n",
      "[7,  2000] loss: 1.095\n",
      "[7,  4000] loss: 1.093\n",
      "[7,  6000] loss: 1.084\n",
      "[7,  8000] loss: 1.095\n",
      "[7, 10000] loss: 1.079\n",
      "[7, 12000] loss: 1.087\n",
      "[8,  2000] loss: 1.049\n",
      "[8,  4000] loss: 1.052\n",
      "[8,  6000] loss: 1.049\n",
      "[8,  8000] loss: 1.077\n",
      "[8, 10000] loss: 1.064\n",
      "[8, 12000] loss: 1.057\n",
      "[9,  2000] loss: 1.035\n",
      "[9,  4000] loss: 1.031\n",
      "[9,  6000] loss: 1.015\n",
      "[9,  8000] loss: 1.050\n",
      "[9, 10000] loss: 1.039\n",
      "[9, 12000] loss: 1.034\n",
      "[10,  2000] loss: 0.989\n",
      "[10,  4000] loss: 1.029\n",
      "[10,  6000] loss: 1.023\n",
      "[10,  8000] loss: 1.010\n",
      "[10, 10000] loss: 1.004\n",
      "[10, 12000] loss: 1.008\n",
      "Finished Training\n"
     ]
    }
   ],
   "source": [
    "for epoch in range(10):  #所用数据集一共10个子集\n",
    "    \n",
    "    running_loss = 0.0\n",
    "    # train_acc = 0\n",
    "    # net.train()\n",
    "    for i, data in enumerate(trainloader, 0):\n",
    "        # 获取训练数据\n",
    "        inputs, labels = data\n",
    "        inputs, labels = inputs.to(device), labels.to(device)\n",
    "        \n",
    "        # 权重参数梯度清零\n",
    "        optimizer.zero_grad()\n",
    "        \n",
    "        # 正向及反向传播\n",
    "        outputs = net(inputs)\n",
    "        loss = criterion(outputs, labels)\n",
    "        loss.backward()\n",
    "        optimizer.step()\n",
    "        \n",
    "        # 显示损失值\n",
    "        running_loss += loss.item()\n",
    "        \n",
    "        # _,pred = outputs.max(1)\n",
    "        # num_correct = (pred == labels).sum().item()\n",
    "        # acc = num_correct / i.shape[0]\n",
    "        # acc = num_correct / inputs.size[0]\n",
    "        # train_acc += acc\n",
    "        # train_acc += num_correct / inputs.size(0)\n",
    "        \n",
    "        \n",
    "        if i % 2000 == 1999:\n",
    "            print('[%d, %5d] loss: %.3f' % (epoch + 1, i + 1, running_loss/2000))\n",
    "            # print('Train loss:{:.4f}, Train acc:{:.4f}'.format(running_loss, running_loss/len(trainloader)))\n",
    "            running_loss = 0.0\n",
    "    \n",
    "    # epoch_loss = running_loss / len(trainloader)\n",
    "    # epoch_acc = train_acc / len(trainloader)\n",
    "    # losses.append(epoch_loss)\n",
    "    # acces.append(epoch_acc)\n",
    "    # print('Epoch: %d, Train loss: %.4f, Train acc: %.4f' % (epoch + 1, epoch_loss, epoch_acc))\n",
    "            \n",
    "print('Finished Training')"
   ]
  },
  {
   "cell_type": "markdown",
   "id": "7fbbbdeb-cc22-4b11-bceb-6e3b6b455a33",
   "metadata": {},
   "source": [
    "## 测试模型"
   ]
  },
  {
   "cell_type": "code",
   "execution_count": 31,
   "id": "dedaf889-6c07-42e1-8fea-db119fc01344",
   "metadata": {},
   "outputs": [
    {
     "name": "stdout",
     "output_type": "stream",
     "text": [
      "Accuracy of the network on the 10000 test images: 65 %\n"
     ]
    }
   ],
   "source": [
    "correct = 0\n",
    "total = 0\n",
    "\n",
    "with torch.no_grad():\n",
    "    for data in testloader:\n",
    "        images, labels = data\n",
    "        images, labels = images.to(device), labels.to(device)\n",
    "        outputs = net(images)\n",
    "        _,predicted = torch.max(outputs.data, 1)\n",
    "        total += labels.size(0)\n",
    "        correct += (predicted == labels).sum().item()\n",
    "        \n",
    "print('Accuracy of the network on the 10000 test images: %d %%' % (100 * correct / total))"
   ]
  },
  {
   "cell_type": "markdown",
   "id": "bda71059-17e1-437f-a76e-0a31f78e54e7",
   "metadata": {},
   "source": [
    "## 统计模型所用参数"
   ]
  },
  {
   "cell_type": "code",
   "execution_count": 57,
   "id": "e15835f1-f8b5-4c4c-b546-40a0cc993825",
   "metadata": {},
   "outputs": [
    {
     "name": "stdout",
     "output_type": "stream",
     "text": [
      "net_gyp have 16022 paramerters in total\n"
     ]
    }
   ],
   "source": [
    "print(\"net_gyp have {} paramerters in total\".format(sum(x.numel() for x in net.parameters())))"
   ]
  },
  {
   "cell_type": "code",
   "execution_count": null,
   "id": "07a07910-ea5c-4276-8c7c-7b09be93f0ee",
   "metadata": {},
   "outputs": [],
   "source": []
  }
 ],
 "metadata": {
  "kernelspec": {
   "display_name": "Python 3 (ipykernel)",
   "language": "python",
   "name": "python3"
  },
  "language_info": {
   "codemirror_mode": {
    "name": "ipython",
    "version": 3
   },
   "file_extension": ".py",
   "mimetype": "text/x-python",
   "name": "python",
   "nbconvert_exporter": "python",
   "pygments_lexer": "ipython3",
   "version": "3.12.7"
  }
 },
 "nbformat": 4,
 "nbformat_minor": 5
}
