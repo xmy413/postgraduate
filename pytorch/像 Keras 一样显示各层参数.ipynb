{
 "cells": [
  {
   "cell_type": "markdown",
   "id": "15ab0057-a5ea-4322-81fa-468131ca3f0c",
   "metadata": {},
   "source": [
    "# 结果类似于 Keras 的展示结果"
   ]
  },
  {
   "cell_type": "markdown",
   "id": "5bb0a932-372a-4398-b849-f7d0ca87f522",
   "metadata": {},
   "source": [
    "### 先定义需要查看的神经网络模型"
   ]
  },
  {
   "cell_type": "code",
   "execution_count": 16,
   "id": "cf48f7f6-5abe-4f6d-a135-533694a4259c",
   "metadata": {},
   "outputs": [],
   "source": [
    "import torch.nn as nn\n",
    "import torch.nn.functional as F\n",
    "\n",
    "class CNNNet(nn.Module):\n",
    "    def __init__(self):\n",
    "        super(CNNNet,self).__init__()\n",
    "        self.conv1 = nn.Conv2d(in_channels=3, out_channels=16, kernel_size=5, stride=1)\n",
    "        self.pool1 = nn.MaxPool2d(kernel_size=2,stride=2)\n",
    "        self.conv2 = nn.Conv2d(in_channels=16, out_channels=36, kernel_size=3, stride=1)\n",
    "        self.pool2 = nn.MaxPool2d(kernel_size=2,stride=2)\n",
    "        self.fc1 = nn.Linear(1296, 128)\n",
    "        self.fc2 = nn.Linear(128, 10)\n",
    "        \n",
    "    def forward(self, x):\n",
    "        x = self.pool1(F.relu(self.conv1(x)))\n",
    "        x = self.pool2(F.relu(self.conv2(x)))\n",
    "        # print(x.shape)\n",
    "        x = x.view(-1, 36*6*6)  #不改变x的数据，但是按照我自己的意愿将其修改为二维张量，其第二维度为36*6*6=1296，以方便能够输入全连接层\n",
    "        x = F.relu(self.fc2(F.relu(self.fc1(x))))\n",
    "        return x\n"
   ]
  },
  {
   "cell_type": "markdown",
   "id": "85b9ccea-70f0-46ed-adc5-275bc0999ca3",
   "metadata": {},
   "source": [
    "### 定义汇总各层网络参数的函数"
   ]
  },
  {
   "cell_type": "code",
   "execution_count": 26,
   "id": "cadd942c-3465-4530-b41a-90e60f67fcf5",
   "metadata": {},
   "outputs": [],
   "source": [
    "import collections\n",
    "import torch"
   ]
  },
  {
   "cell_type": "code",
   "execution_count": 33,
   "id": "4961ccf9-6890-406a-b920-03e8ee7af81e",
   "metadata": {},
   "outputs": [],
   "source": [
    "def paras_summary(input_size, model):\n",
    "    def register_hook(module):\n",
    "        def hook(module, input, output):\n",
    "            class_name = str(module.__class__).split('.')[-1].split(\"'\")[0]\n",
    "            module_idx = len(summary)\n",
    "\n",
    "            m_key = '%s-%i' % (class_name, module_idx+1)\n",
    "            summary[m_key] = collections.OrderedDict()\n",
    "            summary[m_key]['input_shape'] = list(input[0].size())\n",
    "            summary[m_key]['input_shape'][0] = -1\n",
    "            summary[m_key]['output_shape'] = list(output.size())\n",
    "            summary[m_key]['output_shape'][0] = -1\n",
    "            params = 0\n",
    "            if hasattr(module, 'weight'):\n",
    "                params += torch.prod(torch.LongTensor(list(module.weight.size())))\n",
    "                if module.weight.requires_grad:\n",
    "                    summary[m_key]['trainable'] = True\n",
    "                else:\n",
    "                    summary[m_key]['trainable'] = False\n",
    "            if hasattr(module, 'bias'):\n",
    "                params += torch.prod(torch.LongTensor(list(module.bias.size())))\n",
    "            summary[m_key]['nb_params'] = params\n",
    "\n",
    "        if not isinstance(module, nn.Sequential) and \\\n",
    "           not isinstance(module, nn.ModuleList) and \\\n",
    "           not (module == model):\n",
    "            hooks.append(module.register_forward_hook(hook))\n",
    "    if isinstance(input_size[0], (list, tuple)):\n",
    "        x = [torch.rand(1, *input_size) for in_size in input_size]\n",
    "    else:\n",
    "        x = torch.rand(1, *input_size)\n",
    "\n",
    "    summary = collections.OrderedDict()\n",
    "    hooks = []\n",
    "\n",
    "    model.apply(register_hook)\n",
    "\n",
    "    model(x)\n",
    "    for h in hooks:\n",
    "        h.remove()\n",
    "\n",
    "    return summary"
   ]
  },
  {
   "cell_type": "markdown",
   "id": "578e023c-e8f7-4804-a6be-5946a3e3fe5a",
   "metadata": {},
   "source": [
    "### 确定输入及实例化模型"
   ]
  },
  {
   "cell_type": "code",
   "execution_count": 36,
   "id": "1290f65a-843b-4cb4-922d-52f1e6c7c2b8",
   "metadata": {},
   "outputs": [
    {
     "data": {
      "text/plain": [
       "OrderedDict([('Conv2d-1',\n",
       "              OrderedDict([('input_shape', [-1, 3, 32, 32]),\n",
       "                           ('output_shape', [-1, 16, 28, 28]),\n",
       "                           ('trainable', True),\n",
       "                           ('nb_params', tensor(1216))])),\n",
       "             ('MaxPool2d-2',\n",
       "              OrderedDict([('input_shape', [-1, 16, 28, 28]),\n",
       "                           ('output_shape', [-1, 16, 14, 14]),\n",
       "                           ('nb_params', 0)])),\n",
       "             ('Conv2d-3',\n",
       "              OrderedDict([('input_shape', [-1, 16, 14, 14]),\n",
       "                           ('output_shape', [-1, 36, 12, 12]),\n",
       "                           ('trainable', True),\n",
       "                           ('nb_params', tensor(5220))])),\n",
       "             ('MaxPool2d-4',\n",
       "              OrderedDict([('input_shape', [-1, 36, 12, 12]),\n",
       "                           ('output_shape', [-1, 36, 6, 6]),\n",
       "                           ('nb_params', 0)])),\n",
       "             ('Linear-5',\n",
       "              OrderedDict([('input_shape', [-1, 1296]),\n",
       "                           ('output_shape', [-1, 128]),\n",
       "                           ('trainable', True),\n",
       "                           ('nb_params', tensor(166016))])),\n",
       "             ('Linear-6',\n",
       "              OrderedDict([('input_shape', [-1, 128]),\n",
       "                           ('output_shape', [-1, 10]),\n",
       "                           ('trainable', True),\n",
       "                           ('nb_params', tensor(1290))]))])"
      ]
     },
     "execution_count": 36,
     "metadata": {},
     "output_type": "execute_result"
    }
   ],
   "source": [
    "net = CNNNet()\n",
    "input_size = [3,32,32]\n",
    "paras_summary(input_size, net)"
   ]
  },
  {
   "cell_type": "code",
   "execution_count": null,
   "id": "1237b209-3d09-43d4-9359-820ab18b875b",
   "metadata": {},
   "outputs": [],
   "source": []
  }
 ],
 "metadata": {
  "kernelspec": {
   "display_name": "Python 3 (ipykernel)",
   "language": "python",
   "name": "python3"
  },
  "language_info": {
   "codemirror_mode": {
    "name": "ipython",
    "version": 3
   },
   "file_extension": ".py",
   "mimetype": "text/x-python",
   "name": "python",
   "nbconvert_exporter": "python",
   "pygments_lexer": "ipython3",
   "version": "3.12.7"
  }
 },
 "nbformat": 4,
 "nbformat_minor": 5
}
