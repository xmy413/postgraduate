{
 "cells": [
  {
   "cell_type": "markdown",
   "id": "3e5dd2f9-59b1-4795-8767-db1fdb69ba34",
   "metadata": {},
   "source": [
    "## 下载数据集"
   ]
  },
  {
   "cell_type": "code",
   "execution_count": 2,
   "id": "270438bb-95af-46d5-b650-193876d915f3",
   "metadata": {},
   "outputs": [],
   "source": [
    "import torch\n",
    "import torchvision\n",
    "import torchvision.transforms as transforms"
   ]
  },
  {
   "cell_type": "markdown",
   "id": "c381f5a3-27e5-4c56-8f0b-5f53027dba70",
   "metadata": {},
   "source": [
    "#### 下文代码中地址需要更新为自己的内部存储路径"
   ]
  },
  {
   "cell_type": "code",
   "execution_count": 6,
   "id": "f0126599-8ed6-42b3-b39b-3fb511a764d2",
   "metadata": {},
   "outputs": [
    {
     "name": "stdout",
     "output_type": "stream",
     "text": [
      "Files already downloaded and verified\n",
      "Files already downloaded and verified\n"
     ]
    }
   ],
   "source": [
    "transform = transforms.Compose([transforms.ToTensor(),transforms.Normalize((0.5, 0.5, 0.5), (0.5, 0.5, 0.5))])\n",
    "\n",
    "trainset = torchvision.datasets.CIFAR10(root='D:/xmy/6.5数据集（CIFAR10数据集）',train=True, download=True, transform=transform)\n",
    "trainloader = torch.utils.data.DataLoader(trainset, batch_size=4, shuffle=True, num_workers=2)\n",
    "\n",
    "testset = torchvision.datasets.CIFAR10(root='D:/xmy/6.5数据集（CIFAR10数据集）',train=True, download=True, transform=transform)\n",
    "testloader = torch.utils.data.DataLoader(testset, batch_size=4, shuffle=False, num_workers=2)\n",
    "\n",
    "classes = ('plane', 'car', 'bird', 'cat', 'deer', 'dog', 'frog', 'horse', 'ship', 'truck')"
   ]
  },
  {
   "cell_type": "markdown",
   "id": "3d406b30-e3bd-4a1c-8c24-f545bfde9eef",
   "metadata": {},
   "source": [
    "## 随机查看部分数据图像"
   ]
  },
  {
   "cell_type": "code",
   "execution_count": 10,
   "id": "40d3a40b-8932-42e2-a262-c8c5e7804bac",
   "metadata": {},
   "outputs": [],
   "source": [
    "import matplotlib.pyplot as plt\n",
    "import numpy as np"
   ]
  },
  {
   "cell_type": "code",
   "execution_count": 29,
   "id": "d56bfe71-cd7e-4a68-9749-3d43b01e4fc9",
   "metadata": {},
   "outputs": [
    {
     "data": {
      "image/png": "[encoded data removed]",
      "text/plain": [
       "<Figure size 640x480 with 1 Axes>"
      ]
     },
     "metadata": {},
     "output_type": "display_data"
    },
    {
     "name": "stdout",
     "output_type": "stream",
     "text": [
      "  cat horse  ship truck\n"
     ]
    }
   ],
   "source": [
    "def imshow(img):\n",
    "    img = img / 2 + 0.5\n",
    "    npimg = img.numpy()\n",
    "    plt.imshow(np.transpose(npimg,(1,2,0)))\n",
    "    plt.show()\n",
    "\n",
    "# 随机获取部分训练集    \n",
    "dataiter = iter(trainloader)\n",
    "images, labels = next(dataiter)\n",
    "\n",
    "# 显示4张图像\n",
    "imshow(torchvision.utils.make_grid(images))\n",
    "# 打印标签\n",
    "print(' '.join('%5s' % classes[labels[j]] for j in range(4)))"
   ]
  },
  {
   "cell_type": "markdown",
   "id": "ab753349-90ca-4655-a7fa-ddb2b5f2c6d3",
   "metadata": {},
   "source": [
    "## 构建网络框架"
   ]
  },
  {
   "cell_type": "code",
   "execution_count": 31,
   "id": "4bd3c8e4-ff6d-44a2-b2e7-057560cbb739",
   "metadata": {},
   "outputs": [],
   "source": [
    "import torch.nn as nn\n",
    "import torch.nn.functional as F\n",
    "device = torch.device(\"cuda:0\" if torch.cuda.is_available() else \"cpu\")\n",
    "\n",
    "class CNNNet(nn.Module):\n",
    "    def __init__(self):\n",
    "        super(CNNNet,self).__init__()\n",
    "        self.conv1 = nn.Conv2d(in_channels=3, out_channels=16, kernel_size=5, stride=1)\n",
    "        self.pool1 = nn.MaxPool2d(kernel_size=2,stride=2)\n",
    "        self.conv2 = nn.Conv2d(in_channels=16, out_channels=36, kernel_size=3, stride=1)\n",
    "        self.pool2 = nn.MaxPool2d(kernel_size=2,stride=2)\n",
    "        self.fc1 = nn.Linear(1296, 128)\n",
    "        self.fc2 = nn.Linear(128, 10)\n",
    "        \n",
    "    def forward(self, x):\n",
    "        x = self.pool1(F.relu(self.conv1(x)))\n",
    "        x = self.pool2(F.relu(self.conv2(x)))\n",
    "        # print(x.shape)\n",
    "        x = x.view(-1, 36*6*6)  #不改变x的数据，但是按照我自己的意愿将其修改为二维张量，其第二维度为36*6*6=1296，以方便能够输入全连接层\n",
    "        x = F.relu(self.fc2(F.relu(self.fc1(x))))\n",
    "        return x\n"
   ]
  },
  {
   "cell_type": "code",
   "execution_count": 35,
   "id": "ead8a9b1-1bd9-4299-ac7b-0e835e856951",
   "metadata": {},
   "outputs": [],
   "source": [
    "net = CNNNet()\n",
    "net = net.to(device)"
   ]
  },
  {
   "cell_type": "code",
   "execution_count": 37,
   "id": "c55f830e-d4a8-43ec-a86e-63597f60c5c4",
   "metadata": {},
   "outputs": [
    {
     "name": "stdout",
     "output_type": "stream",
     "text": [
      "CNNNet(\n",
      "  (conv1): Conv2d(3, 16, kernel_size=(5, 5), stride=(1, 1))\n",
      "  (pool1): MaxPool2d(kernel_size=2, stride=2, padding=0, dilation=1, ceil_mode=False)\n",
      "  (conv2): Conv2d(16, 36, kernel_size=(3, 3), stride=(1, 1))\n",
      "  (pool2): MaxPool2d(kernel_size=2, stride=2, padding=0, dilation=1, ceil_mode=False)\n",
      "  (fc1): Linear(in_features=1296, out_features=128, bias=True)\n",
      "  (fc2): Linear(in_features=128, out_features=10, bias=True)\n",
      ")\n"
     ]
    },
    {
     "data": {
      "text/plain": [
       "Sequential(\n",
       "  (0): Conv2d(3, 16, kernel_size=(5, 5), stride=(1, 1))\n",
       "  (1): MaxPool2d(kernel_size=2, stride=2, padding=0, dilation=1, ceil_mode=False)\n",
       "  (2): Conv2d(16, 36, kernel_size=(3, 3), stride=(1, 1))\n",
       "  (3): MaxPool2d(kernel_size=2, stride=2, padding=0, dilation=1, ceil_mode=False)\n",
       ")"
      ]
     },
     "execution_count": 37,
     "metadata": {},
     "output_type": "execute_result"
    }
   ],
   "source": [
    "# 查看网络结构\n",
    "print(net)\n",
    "\n",
    "# 查看网络中的前四层\n",
    "nn.Sequential(*list(net.children())[:4])"
   ]
  },
  {
   "cell_type": "markdown",
   "id": "fbb05a56-3553-478b-9974-f99241e484eb",
   "metadata": {},
   "source": [
    "## 训练模型"
   ]
  },
  {
   "cell_type": "markdown",
   "id": "ebde938e-f507-445f-a57d-10863b5f5271",
   "metadata": {},
   "source": [
    "### 定义损失函数和优化器"
   ]
  },
  {
   "cell_type": "code",
   "execution_count": 41,
   "id": "de99025e-0904-4839-8f65-1c9f413e843c",
   "metadata": {},
   "outputs": [],
   "source": [
    "import torch.optim as optim\n",
    "criterion = nn.CrossEntropyLoss()\n",
    "optimizer = optim.SGD(net.parameters(), lr=0.001, momentum=0.9)"
   ]
  },
  {
   "cell_type": "code",
   "execution_count": 43,
   "id": "ab38b677-ab0a-428b-bf10-ba2e049a20e6",
   "metadata": {
    "scrolled": true
   },
   "outputs": [
    {
     "name": "stdout",
     "output_type": "stream",
     "text": [
      "[1,  2000] loss: 2.255\n",
      "[1,  4000] loss: 1.888\n",
      "[1,  6000] loss: 1.610\n",
      "[1,  8000] loss: 1.500\n",
      "[1, 10000] loss: 1.394\n",
      "[1, 12000] loss: 1.302\n",
      "[2,  2000] loss: 1.186\n",
      "[2,  4000] loss: 1.169\n",
      "[2,  6000] loss: 1.134\n",
      "[2,  8000] loss: 1.106\n",
      "[2, 10000] loss: 1.066\n",
      "[2, 12000] loss: 1.047\n",
      "[3,  2000] loss: 0.930\n",
      "[3,  4000] loss: 0.917\n",
      "[3,  6000] loss: 0.943\n",
      "[3,  8000] loss: 0.940\n",
      "[3, 10000] loss: 0.924\n",
      "[3, 12000] loss: 0.911\n",
      "[4,  2000] loss: 0.796\n",
      "[4,  4000] loss: 0.788\n",
      "[4,  6000] loss: 0.807\n",
      "[4,  8000] loss: 0.820\n",
      "[4, 10000] loss: 0.812\n",
      "[4, 12000] loss: 0.794\n",
      "[5,  2000] loss: 0.665\n",
      "[5,  4000] loss: 0.693\n",
      "[5,  6000] loss: 0.715\n",
      "[5,  8000] loss: 0.703\n",
      "[5, 10000] loss: 0.723\n",
      "[5, 12000] loss: 0.743\n",
      "[6,  2000] loss: 0.587\n",
      "[6,  4000] loss: 0.589\n",
      "[6,  6000] loss: 0.628\n",
      "[6,  8000] loss: 0.632\n",
      "[6, 10000] loss: 0.642\n",
      "[6, 12000] loss: 0.657\n",
      "[7,  2000] loss: 0.485\n",
      "[7,  4000] loss: 0.519\n",
      "[7,  6000] loss: 0.561\n",
      "[7,  8000] loss: 0.555\n",
      "[7, 10000] loss: 0.580\n",
      "[7, 12000] loss: 0.588\n",
      "[8,  2000] loss: 0.418\n",
      "[8,  4000] loss: 0.466\n",
      "[8,  6000] loss: 0.474\n",
      "[8,  8000] loss: 0.487\n",
      "[8, 10000] loss: 0.522\n",
      "[8, 12000] loss: 0.532\n",
      "[9,  2000] loss: 0.361\n",
      "[9,  4000] loss: 0.402\n",
      "[9,  6000] loss: 0.415\n",
      "[9,  8000] loss: 0.461\n",
      "[9, 10000] loss: 0.446\n",
      "[9, 12000] loss: 0.497\n",
      "[10,  2000] loss: 0.320\n",
      "[10,  4000] loss: 0.339\n",
      "[10,  6000] loss: 0.386\n",
      "[10,  8000] loss: 0.392\n",
      "[10, 10000] loss: 0.414\n",
      "[10, 12000] loss: 0.449\n",
      "Finished Training\n"
     ]
    }
   ],
   "source": [
    "for epoch in range(10):  #所用数据集一共10个子集\n",
    "    \n",
    "    running_loss = 0.0\n",
    "    # train_acc = 0\n",
    "    # net.train()\n",
    "    for i, data in enumerate(trainloader, 0):\n",
    "        # 获取训练数据\n",
    "        inputs, labels = data\n",
    "        inputs, labels = inputs.to(device), labels.to(device)\n",
    "        \n",
    "        # 权重参数梯度清零\n",
    "        optimizer.zero_grad()\n",
    "        \n",
    "        # 正向及反向传播\n",
    "        outputs = net(inputs)\n",
    "        loss = criterion(outputs, labels)\n",
    "        loss.backward()\n",
    "        optimizer.step()\n",
    "        \n",
    "        # 显示损失值\n",
    "        running_loss += loss.item()\n",
    "        \n",
    "        # _,pred = outputs.max(1)\n",
    "        # num_correct = (pred == labels).sum().item()\n",
    "        # acc = num_correct / i.shape[0]\n",
    "        # acc = num_correct / inputs.size[0]\n",
    "        # train_acc += acc\n",
    "        # train_acc += num_correct / inputs.size(0)\n",
    "        \n",
    "        \n",
    "        if i % 2000 == 1999:\n",
    "            print('[%d, %5d] loss: %.3f' % (epoch + 1, i + 1, running_loss/2000))\n",
    "            # print('Train loss:{:.4f}, Train acc:{:.4f}'.format(running_loss, running_loss/len(trainloader)))\n",
    "            running_loss = 0.0\n",
    "    \n",
    "    # epoch_loss = running_loss / len(trainloader)\n",
    "    # epoch_acc = train_acc / len(trainloader)\n",
    "    # losses.append(epoch_loss)\n",
    "    # acces.append(epoch_acc)\n",
    "    # print('Epoch: %d, Train loss: %.4f, Train acc: %.4f' % (epoch + 1, epoch_loss, epoch_acc))\n",
    "            \n",
    "print('Finished Training')"
   ]
  },
  {
   "cell_type": "markdown",
   "id": "453722a5-45c3-454b-8e13-0c4b3ff11032",
   "metadata": {},
   "source": [
    "## 测试模型"
   ]
  },
  {
   "cell_type": "code",
   "execution_count": 49,
   "id": "9b672c95-d4b5-49e7-b831-f669a21f863b",
   "metadata": {},
   "outputs": [
    {
     "name": "stdout",
     "output_type": "stream",
     "text": [
      "Accuracy of the network on the 10000 test images: 88 %\n"
     ]
    }
   ],
   "source": [
    "correct = 0\n",
    "total = 0\n",
    "\n",
    "with torch.no_grad():\n",
    "    for data in testloader:\n",
    "        images, labels = data\n",
    "        images, labels = images.to(device), labels.to(device)\n",
    "        outputs = net(images)\n",
    "        _,predicted = torch.max(outputs.data, 1)\n",
    "        total += labels.size(0)\n",
    "        correct += (predicted == labels).sum().item()\n",
    "        \n",
    "print('Accuracy of the network on the 10000 test images: %d %%' % (100 * correct / total))"
   ]
  },
  {
   "cell_type": "markdown",
   "id": "3415320a-c05d-48cf-b7ab-b769f99549f0",
   "metadata": {},
   "source": [
    "## 统计模型所用参数"
   ]
  },
  {
   "cell_type": "code",
   "execution_count": 53,
   "id": "9db5d446-03de-4318-9f63-f0a4c552dc8b",
   "metadata": {},
   "outputs": [
    {
     "name": "stdout",
     "output_type": "stream",
     "text": [
      "net_gyp have 173742 paramerters in total\n"
     ]
    }
   ],
   "source": [
    "print(\"net_gyp have {} paramerters in total\".format(sum(x.numel() for x in net.parameters())))"
   ]
  }
 ],
 "metadata": {
  "kernelspec": {
   "display_name": "Python 3 (ipykernel)",
   "language": "python",
   "name": "python3"
  },
  "language_info": {
   "codemirror_mode": {
    "name": "ipython",
    "version": 3
   },
   "file_extension": ".py",
   "mimetype": "text/x-python",
   "name": "python",
   "nbconvert_exporter": "python",
   "pygments_lexer": "ipython3",
   "version": "3.12.7"
  }
 },
 "nbformat": 4,
 "nbformat_minor": 5
}
